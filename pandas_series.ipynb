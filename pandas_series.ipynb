{
 "cells": [
  {
   "cell_type": "code",
   "execution_count": 1,
   "metadata": {},
   "outputs": [],
   "source": [
    "import pandas as pd\n",
    "import numpy as np\n",
    "\n",
    "\n"
   ]
  },
  {
   "cell_type": "code",
   "execution_count": 2,
   "metadata": {},
   "outputs": [],
   "source": [
    "\n",
    "\n",
    "# Exercise Part I\n",
    "\n",
    "# Use pandas to create a Series named fruits from the following list:\n",
    "\n",
    "#[\"kiwi\", \"mango\", \"strawberry\", \"pineapple\", \"gala apple\", \"honeycrisp apple\", \n",
    "# \"tomato\", \"watermelon\", \"honeydew\", \"kiwi\", \"kiwi\", \"kiwi\", \"mango\", \"blueberry\", \"blackberry\", \n",
    "# \"gooseberry\", \"papaya\"]\n",
    "\n",
    "fruits = [\"kiwi\", \"mango\", \"strawberry\", \"pineapple\", \"gala apple\", \"honeycrisp apple\", \"tomato\", \"watermelon\", \"honeydew\", \"kiwi\", \"kiwi\", \"kiwi\", \"mango\", \"blueberry\", \"blackberry\", \"gooseberry\", \"papaya\"]\n",
    "fruit_series = pd.Series(fruits)\n"
   ]
  },
  {
   "cell_type": "code",
   "execution_count": 3,
   "metadata": {},
   "outputs": [
    {
     "data": {
      "text/plain": [
       "17"
      ]
     },
     "execution_count": 3,
     "metadata": {},
     "output_type": "execute_result"
    }
   ],
   "source": [
    "\n",
    "# Use Series attributes and methods to explore your fruits Series.\n",
    "\n",
    "# 1. Determine the number of elements in fruits.\n",
    "\n",
    "fruit_series.count()\n",
    "# 17\n"
   ]
  },
  {
   "cell_type": "code",
   "execution_count": 4,
   "metadata": {},
   "outputs": [
    {
     "data": {
      "text/plain": [
       "array([ 0,  1,  2,  3,  4,  5,  6,  7,  8,  9, 10, 11, 12, 13, 14, 15, 16])"
      ]
     },
     "execution_count": 4,
     "metadata": {},
     "output_type": "execute_result"
    }
   ],
   "source": [
    "\n",
    "\n",
    "# 2. Output only the index from fruits.\n",
    "\n",
    "fruit_series.index.values\n",
    "# array([ 0,  1,  2,  3,  4,  5,  6,  7,  8,  9, 10, 11, 12, 13, 14, 15, 16])\n"
   ]
  },
  {
   "cell_type": "code",
   "execution_count": 5,
   "metadata": {},
   "outputs": [
    {
     "data": {
      "text/plain": [
       "array(['kiwi', 'mango', 'strawberry', 'pineapple', 'gala apple',\n",
       "       'honeycrisp apple', 'tomato', 'watermelon', 'honeydew', 'kiwi',\n",
       "       'kiwi', 'kiwi', 'mango', 'blueberry', 'blackberry', 'gooseberry',\n",
       "       'papaya'], dtype=object)"
      ]
     },
     "execution_count": 5,
     "metadata": {},
     "output_type": "execute_result"
    }
   ],
   "source": [
    "\n",
    "\n",
    "# 3.Output only the values from fruits.\n",
    "\n",
    "fruit_series.values\n",
    "# array(['kiwi', 'mango', 'strawberry', 'pineapple', 'gala apple',\n",
    "#        'honeycrisp apple', 'tomato', 'watermelon', 'honeydew', 'kiwi',\n",
    "#        'kiwi', 'kiwi', 'mango', 'blueberry', 'blackberry', 'gooseberry',\n",
    "#        'papaya'], dtype=object)\n",
    "\n"
   ]
  },
  {
   "cell_type": "code",
   "execution_count": 6,
   "metadata": {},
   "outputs": [
    {
     "data": {
      "text/plain": [
       "dtype('O')"
      ]
     },
     "execution_count": 6,
     "metadata": {},
     "output_type": "execute_result"
    }
   ],
   "source": [
    "\n",
    "# 4. Confirm the data type of the values in fruits.\n",
    "\n",
    "fruit_series.dtype\n",
    "# dtype('O')\n",
    "\n"
   ]
  },
  {
   "cell_type": "code",
   "execution_count": 7,
   "metadata": {},
   "outputs": [
    {
     "data": {
      "text/plain": [
       "14    blackberry\n",
       "2     strawberry\n",
       "dtype: object"
      ]
     },
     "execution_count": 7,
     "metadata": {},
     "output_type": "execute_result"
    }
   ],
   "source": [
    "\n",
    "# 5. Output only the first five values from fruits. Output the last three values. \n",
    "#    Output two random values from fruits.\n",
    "\n",
    "fruit_series.head()\n",
    "# 0          kiwi\n",
    "# 1         mango\n",
    "# 2    strawberry\n",
    "# 3     pineapple\n",
    "# 4    gala apple\n",
    "# dtype: object\n",
    "\n",
    "fruit_series.tail(3)\n",
    "# 14    blackberry\n",
    "# 15    gooseberry\n",
    "# 16        papaya\n",
    "# dtype: object\n",
    "\n",
    "fruit_series.sample(2)\n",
    "# 15    gooseberry\n",
    "# 11          kiwi\n",
    "# dtype: object\n"
   ]
  },
  {
   "cell_type": "code",
   "execution_count": 8,
   "metadata": {},
   "outputs": [
    {
     "data": {
      "text/plain": [
       "count       17\n",
       "unique      13\n",
       "top       kiwi\n",
       "freq         4\n",
       "dtype: object"
      ]
     },
     "execution_count": 8,
     "metadata": {},
     "output_type": "execute_result"
    }
   ],
   "source": [
    "\n",
    "\n",
    "# 6. Run the .describe() on fruits to see what information it returns when called on a \n",
    "#    Series with string values.\n",
    "\n",
    "fruit_series.describe()\n",
    "# count       17\n",
    "# unique      13\n",
    "# top       kiwi\n",
    "# freq         4\n",
    "# dtype: object\n"
   ]
  },
  {
   "cell_type": "code",
   "execution_count": 9,
   "metadata": {},
   "outputs": [
    {
     "data": {
      "text/plain": [
       "array(['kiwi', 'mango', 'strawberry', 'pineapple', 'gala apple',\n",
       "       'honeycrisp apple', 'tomato', 'watermelon', 'honeydew',\n",
       "       'blueberry', 'blackberry', 'gooseberry', 'papaya'], dtype=object)"
      ]
     },
     "execution_count": 9,
     "metadata": {},
     "output_type": "execute_result"
    }
   ],
   "source": [
    "\n",
    "\n",
    "# 7. Run the code necessary to produce only the unique string values from fruits.\n",
    "\n",
    "fruit_series.unique()\n",
    "# array(['kiwi', 'mango', 'strawberry', 'pineapple', 'gala apple',\n",
    "#        'honeycrisp apple', 'tomato', 'watermelon', 'honeydew',\n",
    "#        'blueberry', 'blackberry', 'gooseberry', 'papaya'], dtype=object)\n",
    "\n"
   ]
  },
  {
   "cell_type": "code",
   "execution_count": 10,
   "metadata": {},
   "outputs": [],
   "source": [
    "\n",
    "# 8. Determine how many times each unique string value occurs in fruits.\n",
    "\n",
    "fruit_count = pd.value_counts(fruit_series)\n",
    "# kiwi                4\n",
    "# mango               2\n",
    "# strawberry          1\n",
    "# pineapple           1\n",
    "# gala apple          1\n",
    "# honeycrisp apple    1\n",
    "# tomato              1\n",
    "# watermelon          1\n",
    "# honeydew            1\n",
    "# blueberry           1\n",
    "# blackberry          1\n",
    "# gooseberry          1\n",
    "# papaya              1\n",
    "# dtype: int64\n",
    "\n"
   ]
  },
  {
   "cell_type": "code",
   "execution_count": 11,
   "metadata": {},
   "outputs": [
    {
     "data": {
      "text/plain": [
       "kiwi    4\n",
       "Name: count, dtype: int64"
      ]
     },
     "execution_count": 11,
     "metadata": {},
     "output_type": "execute_result"
    }
   ],
   "source": [
    "\n",
    "# 9. Determine the string value that occurs most frequently in fruits.\n",
    "\n",
    "fruit_count.idxmax()\n",
    "\n",
    "fruit_series.value_counts().head(1)\n",
    "# kiwi    4\n",
    "# dtype: int64\n"
   ]
  },
  {
   "cell_type": "code",
   "execution_count": 12,
   "metadata": {},
   "outputs": [
    {
     "data": {
      "text/plain": [
       "strawberry          1\n",
       "pineapple           1\n",
       "gala apple          1\n",
       "honeycrisp apple    1\n",
       "tomato              1\n",
       "watermelon          1\n",
       "honeydew            1\n",
       "blueberry           1\n",
       "blackberry          1\n",
       "gooseberry          1\n",
       "papaya              1\n",
       "Name: count, dtype: int64"
      ]
     },
     "execution_count": 12,
     "metadata": {},
     "output_type": "execute_result"
    }
   ],
   "source": [
    "\n",
    "# 10. Determine the string value that occurs least frequently in fruits.\n",
    "\n",
    "\n",
    "\n",
    "fruit_series.value_counts().nsmallest(n=1, keep='all')\n",
    "# strawberry          1\n",
    "# pineapple           1\n",
    "# gala apple          1\n",
    "# honeycrisp apple    1\n",
    "# tomato              1\n",
    "# watermelon          1\n",
    "# honeydew            1\n",
    "# blueberry           1\n",
    "# blackberry          1\n",
    "# gooseberry          1\n",
    "# papaya              1\n",
    "# dtype: int64\n",
    "\n"
   ]
  },
  {
   "cell_type": "code",
   "execution_count": 13,
   "metadata": {},
   "outputs": [
    {
     "data": {
      "text/plain": [
       "0                 Kiwi\n",
       "1                Mango\n",
       "2           Strawberry\n",
       "3            Pineapple\n",
       "4           Gala apple\n",
       "5     Honeycrisp apple\n",
       "6               Tomato\n",
       "7           Watermelon\n",
       "8             Honeydew\n",
       "9                 Kiwi\n",
       "10                Kiwi\n",
       "11                Kiwi\n",
       "12               Mango\n",
       "13           Blueberry\n",
       "14          Blackberry\n",
       "15          Gooseberry\n",
       "16              Papaya\n",
       "dtype: object"
      ]
     },
     "execution_count": 13,
     "metadata": {},
     "output_type": "execute_result"
    }
   ],
   "source": [
    "\n",
    "# Exercise Part II\n",
    "# Explore more attributes and methods while you continue to work with the fruits Series.\n",
    "\n",
    "# 1. Capitalize all the string values in fruits.\n",
    "\n",
    "fruit_series.str.capitalize()\n",
    "# 0                 Kiwi\n",
    "# 1                Mango\n",
    "# 2           Strawberry\n",
    "# 3            Pineapple\n",
    "# 4           Gala apple\n",
    "# 5     Honeycrisp apple\n",
    "# 6               Tomato\n",
    "# 7           Watermelon\n",
    "# 8             Honeydew\n",
    "# 9                 Kiwi\n",
    "# 10                Kiwi\n",
    "# 11                Kiwi\n",
    "# 12               Mango\n",
    "# 13           Blueberry\n",
    "# 14          Blackberry\n",
    "# 15          Gooseberry\n",
    "# 16              Papaya\n",
    "# dtype: object\n"
   ]
  },
  {
   "cell_type": "code",
   "execution_count": 14,
   "metadata": {},
   "outputs": [
    {
     "data": {
      "text/plain": [
       "0     0\n",
       "1     1\n",
       "2     1\n",
       "3     1\n",
       "4     3\n",
       "5     1\n",
       "6     1\n",
       "7     1\n",
       "8     0\n",
       "9     0\n",
       "10    0\n",
       "11    0\n",
       "12    1\n",
       "13    0\n",
       "14    1\n",
       "15    0\n",
       "16    3\n",
       "dtype: int64"
      ]
     },
     "execution_count": 14,
     "metadata": {},
     "output_type": "execute_result"
    }
   ],
   "source": [
    "\n",
    "\n",
    "# 2. Count the letter \"a\" in all the string values (use string vectorization).\n",
    "\n",
    "fruit_series.str.count('a')\n",
    "# 0     0\n",
    "# 1     1\n",
    "# 2     1\n",
    "# 3     1\n",
    "# 4     3\n",
    "# 5     1\n",
    "# 6     1\n",
    "# 7     1\n",
    "# 8     0\n",
    "# 9     0\n",
    "# 10    0\n",
    "# 11    0\n",
    "# 12    1\n",
    "# 13    0\n",
    "# 14    1\n",
    "# 15    0\n",
    "# 16    3\n",
    "# dtype: int64\n",
    "\n"
   ]
  },
  {
   "cell_type": "code",
   "execution_count": 15,
   "metadata": {},
   "outputs": [
    {
     "data": {
      "text/plain": [
       "0     0\n",
       "1     0\n",
       "2     0\n",
       "3     0\n",
       "4     0\n",
       "5     0\n",
       "6     0\n",
       "7     0\n",
       "8     0\n",
       "9     0\n",
       "10    0\n",
       "11    0\n",
       "12    0\n",
       "13    0\n",
       "14    0\n",
       "15    0\n",
       "16    0\n",
       "dtype: int64"
      ]
     },
     "execution_count": 15,
     "metadata": {},
     "output_type": "execute_result"
    }
   ],
   "source": [
    "\n",
    "# 3. Output the number of vowels in each and every string value.\n",
    "\n",
    "vowels = list('aeiou')\n",
    "fruit_series.isin(vowels).value_counts()\n",
    "# False    17\n",
    "# dtype: int64\n",
    "fruit_series.str.count('aeiou')\n"
   ]
  },
  {
   "cell_type": "code",
   "execution_count": 16,
   "metadata": {},
   "outputs": [
    {
     "data": {
      "text/plain": [
       "'honeycrisp apple'"
      ]
     },
     "execution_count": 16,
     "metadata": {},
     "output_type": "execute_result"
    }
   ],
   "source": [
    "\n",
    "# 4. Write the code to get the longest string value from fruits.\n",
    "\n",
    "fruit_series.str.len().max()\n",
    "#16\n",
    "max(fruit_series, key=len)\n",
    "# honeycrisp apple\n"
   ]
  },
  {
   "cell_type": "code",
   "execution_count": 17,
   "metadata": {},
   "outputs": [
    {
     "data": {
      "text/plain": [
       "1                mango\n",
       "2           strawberry\n",
       "3            pineapple\n",
       "4           gala apple\n",
       "5     honeycrisp apple\n",
       "6               tomato\n",
       "7           watermelon\n",
       "8             honeydew\n",
       "12               mango\n",
       "13           blueberry\n",
       "14          blackberry\n",
       "15          gooseberry\n",
       "16              papaya\n",
       "dtype: object"
      ]
     },
     "execution_count": 17,
     "metadata": {},
     "output_type": "execute_result"
    }
   ],
   "source": [
    "\n",
    "# 5. Write the code to get the string values with 5 or more letters in the name.\n",
    "\n",
    "fruit_series[fruit_series.str.len() >= 5]\n",
    "# 1                mango\n",
    "# 2           strawberry\n",
    "# 3            pineapple\n",
    "# 4           gala apple\n",
    "# 5     honeycrisp apple\n",
    "# 6               tomato\n",
    "# 7           watermelon\n",
    "# 8             honeydew\n",
    "# 12               mango\n",
    "# 13           blueberry\n",
    "# 14          blackberry\n",
    "# 15          gooseberry\n",
    "# 16              papaya\n",
    "# dtype: object\n",
    "\n"
   ]
  },
  {
   "cell_type": "code",
   "execution_count": 18,
   "metadata": {},
   "outputs": [
    {
     "data": {
      "text/plain": [
       "6         tomato\n",
       "15    gooseberry\n",
       "dtype: object"
      ]
     },
     "execution_count": 18,
     "metadata": {},
     "output_type": "execute_result"
    }
   ],
   "source": [
    "\n",
    "# 6. Find the fruit(s) containing the letter \"o\" two or more times.\n",
    "\n",
    "fruit_series[fruit_series.str.count('o') >= 2]\n",
    "# 6         tomato\n",
    "# 15    gooseberry\n",
    "# dtype: object\n",
    "\n"
   ]
  },
  {
   "cell_type": "code",
   "execution_count": 19,
   "metadata": {},
   "outputs": [
    {
     "data": {
      "text/plain": [
       "2     strawberry\n",
       "13     blueberry\n",
       "14    blackberry\n",
       "15    gooseberry\n",
       "dtype: object"
      ]
     },
     "execution_count": 19,
     "metadata": {},
     "output_type": "execute_result"
    }
   ],
   "source": [
    "\n",
    "# 7.Write the code to get only the string values containing the substring \"berry\".\n",
    "\n",
    "fruit_series[fruit_series.str.contains('berry')]\n",
    "# 2     strawberry\n",
    "# 13     blueberry\n",
    "# 14    blackberry\n",
    "# 15    gooseberry\n",
    "# dtype: object\n",
    "\n"
   ]
  },
  {
   "cell_type": "code",
   "execution_count": 20,
   "metadata": {},
   "outputs": [
    {
     "data": {
      "text/plain": [
       "3           pineapple\n",
       "4          gala apple\n",
       "5    honeycrisp apple\n",
       "dtype: object"
      ]
     },
     "execution_count": 20,
     "metadata": {},
     "output_type": "execute_result"
    }
   ],
   "source": [
    "\n",
    "# 8. Write the code to get only the string values containing the substring \"apple\".\n",
    "fruit_series[fruit_series.str.contains('apple')]\n",
    "# 3           pineapple\n",
    "# 4          gala apple\n",
    "# 5    honeycrisp apple\n",
    "# dtype: object\n",
    "\n"
   ]
  },
  {
   "cell_type": "code",
   "execution_count": 21,
   "metadata": {},
   "outputs": [
    {
     "data": {
      "text/plain": [
       "5    honeycrisp apple\n",
       "dtype: object"
      ]
     },
     "execution_count": 21,
     "metadata": {},
     "output_type": "execute_result"
    }
   ],
   "source": [
    "\n",
    "# 9. Which string value contains the most vowels?\n",
    "\n",
    "fruit_series[fruit_series.str.count(r'[aeiou]').nlargest(n=1, keep='all')]\n",
    "# 5    honeycrisp apple\n",
    "# dtype: object\n",
    "\n"
   ]
  },
  {
   "cell_type": "code",
   "execution_count": 22,
   "metadata": {},
   "outputs": [],
   "source": [
    "\n",
    "\n",
    "# Exercises Part III\n",
    "\n",
    "# Use pandas to create a Series named letters from the following string. \n",
    "# The easiest way to make this string into a Pandas series is to use list \n",
    "# to convert each individual letter into a single string on a basic Python list.\n",
    "\n",
    "letter = list('hnvidduckkqxwymbimkccexbkmqygkxoyndmcxnwqarhyffsjpsrabtjzsypmzadfavyrnndndvswreauxovncxtwzpwejilzjrmmbbgbyxvjtewqthafnbkqplarokkyydtubbmnexoypulzwfhqvckdpqtpoppzqrmcvhhpwgjwupgzhiofohawytlsiyecuproguy')\n",
    "letter_series = pd.Series(letter)\n"
   ]
  },
  {
   "cell_type": "code",
   "execution_count": 23,
   "metadata": {},
   "outputs": [
    {
     "data": {
      "text/plain": [
       "y    13\n",
       "Name: count, dtype: int64"
      ]
     },
     "execution_count": 23,
     "metadata": {},
     "output_type": "execute_result"
    }
   ],
   "source": [
    "\n",
    "# 1. Which letter occurs the most frequently in the letters Series?\n",
    "\n",
    "pd.value_counts(letter_series).head(1)\n",
    "# y    13\n",
    "# dtype: int64\n",
    "\n"
   ]
  },
  {
   "cell_type": "code",
   "execution_count": 24,
   "metadata": {},
   "outputs": [
    {
     "data": {
      "text/plain": [
       "l    4\n",
       "Name: count, dtype: int64"
      ]
     },
     "execution_count": 24,
     "metadata": {},
     "output_type": "execute_result"
    }
   ],
   "source": [
    "\n",
    "\n",
    "# 2. Which letter occurs the Least frequently?\n",
    "pd.value_counts(letter_series).tail(1)\n",
    "# l    4\n",
    "# dtype: int64\n",
    "\n"
   ]
  },
  {
   "cell_type": "code",
   "execution_count": 25,
   "metadata": {},
   "outputs": [
    {
     "data": {
      "text/plain": [
       "34"
      ]
     },
     "execution_count": 25,
     "metadata": {},
     "output_type": "execute_result"
    }
   ],
   "source": [
    "\n",
    "# 3. How many vowels are in the Series?\n",
    "\n",
    "letter_series.isin(vowels).value_counts()\n",
    "\n",
    "# True      34\n",
    "# dtype: int64\n",
    "\n",
    "def is_vowel(word):\n",
    "    return word in vowels\n",
    "letter_series.str.lower().apply(is_vowel).sum()\n",
    "# 34\n"
   ]
  },
  {
   "cell_type": "code",
   "execution_count": 26,
   "metadata": {},
   "outputs": [
    {
     "data": {
      "text/plain": [
       "166"
      ]
     },
     "execution_count": 26,
     "metadata": {},
     "output_type": "execute_result"
    }
   ],
   "source": [
    "\n",
    "\n",
    "# 4. How many consonants are in the Series?\n",
    "letter_series.isin(vowels).value_counts()\n",
    "#False    166\n",
    "\n",
    "(~letter_series.str.lower().apply(is_vowel)).sum()\n",
    "# 166\n"
   ]
  },
  {
   "cell_type": "code",
   "execution_count": 27,
   "metadata": {},
   "outputs": [
    {
     "data": {
      "text/plain": [
       "0      H\n",
       "1      N\n",
       "2      V\n",
       "3      I\n",
       "4      D\n",
       "      ..\n",
       "195    R\n",
       "196    O\n",
       "197    G\n",
       "198    U\n",
       "199    Y\n",
       "Length: 200, dtype: object"
      ]
     },
     "execution_count": 27,
     "metadata": {},
     "output_type": "execute_result"
    }
   ],
   "source": [
    "\n",
    "# 5. Create a Series that has all of the same letters but uppercased.\n",
    "\n",
    "cap_series = letter_series.str.upper()\n",
    "cap_series\n",
    "# 0      H\n",
    "# 1      N\n",
    "# 2      V\n",
    "# 3      I\n",
    "# 4      D\n",
    "#       ..\n",
    "# 195    R\n",
    "# 196    O\n",
    "# 197    G\n",
    "# 198    U\n",
    "# 199    Y\n",
    "# Length: 200, dtype: object\n"
   ]
  },
  {
   "cell_type": "code",
   "execution_count": 28,
   "metadata": {},
   "outputs": [
    {
     "data": {
      "text/plain": [
       "[Text(0.5, 0, 'Letter'), Text(0, 0.5, 'Frequency')]"
      ]
     },
     "execution_count": 28,
     "metadata": {},
     "output_type": "execute_result"
    },
    {
     "data": {
      "image/png": "[encoded data removed]",
      "text/plain": [
       "<Figure size 640x480 with 1 Axes>"
      ]
     },
     "metadata": {},
     "output_type": "display_data"
    }
   ],
   "source": [
    "\n",
    "# 6. Create a bar plot of the frequencies of the 6 most commonly occuring letters.\n",
    "\n",
    "six_most = pd.value_counts(letter_series).head(6)\n",
    "six_most.plot.bar().set(xlabel = 'Letter', ylabel = \"Frequency\")\n",
    "\n"
   ]
  },
  {
   "cell_type": "code",
   "execution_count": 29,
   "metadata": {},
   "outputs": [],
   "source": [
    "\n",
    "# Use pandas to create a Series named numbers from the following list:\n",
    "\n",
    "numbers = ['$796,459.41', '$278.60', '$482,571.67', '$4,503,915.98', '$2,121,418.3', '$1,260,813.3', '$87,231.01', '$1,509,175.45', '$4,138,548.00', '$2,848,913.80', '$594,715.39', '$4,789,988.17', '$4,513,644.5', '$3,191,059.97', '$1,758,712.24', '$4,338,283.54', '$4,738,303.38', '$2,791,759.67', '$769,681.94', '$452,650.23']\n",
    "num_series = pd.Series(numbers)\n",
    "\n"
   ]
  },
  {
   "cell_type": "code",
   "execution_count": 30,
   "metadata": {},
   "outputs": [
    {
     "data": {
      "text/plain": [
       "dtype('O')"
      ]
     },
     "execution_count": 30,
     "metadata": {},
     "output_type": "execute_result"
    }
   ],
   "source": [
    "\n",
    "# 1. What is the data type of the numbers Series?\n",
    "\n",
    "num_series.dtype\n",
    "# dtype('O')\n"
   ]
  },
  {
   "cell_type": "code",
   "execution_count": 31,
   "metadata": {},
   "outputs": [
    {
     "data": {
      "text/plain": [
       "20"
      ]
     },
     "execution_count": 31,
     "metadata": {},
     "output_type": "execute_result"
    }
   ],
   "source": [
    "\n",
    "\n",
    "# 2. How many elements are in the number Series?\n",
    "\n",
    "num_series.count()\n",
    "# 20\n",
    "\n"
   ]
  },
  {
   "cell_type": "code",
   "execution_count": 32,
   "metadata": {},
   "outputs": [
    {
     "data": {
      "text/plain": [
       "0      796459.41\n",
       "1         278.60\n",
       "2      482571.67\n",
       "3     4503915.98\n",
       "4     2121418.30\n",
       "5     1260813.30\n",
       "6       87231.01\n",
       "7     1509175.45\n",
       "8     4138548.00\n",
       "9     2848913.80\n",
       "10     594715.39\n",
       "11    4789988.17\n",
       "12    4513644.50\n",
       "13    3191059.97\n",
       "14    1758712.24\n",
       "15    4338283.54\n",
       "16    4738303.38\n",
       "17    2791759.67\n",
       "18     769681.94\n",
       "19     452650.23\n",
       "dtype: float64"
      ]
     },
     "execution_count": 32,
     "metadata": {},
     "output_type": "execute_result"
    }
   ],
   "source": [
    "\n",
    "# 3. Perform the necessary manipulations by accessing Series attributes and methods to convert \n",
    "#    the numbers Series to a numeric data type.\n",
    "\n",
    "num_series_float = num_series.str.replace('$', ' ').str.replace(',', '').astype('float')\n",
    "num_series_float\n"
   ]
  },
  {
   "cell_type": "code",
   "execution_count": 33,
   "metadata": {},
   "outputs": [
    {
     "data": {
      "text/plain": [
       "11    4789988.17\n",
       "dtype: float64"
      ]
     },
     "execution_count": 33,
     "metadata": {},
     "output_type": "execute_result"
    }
   ],
   "source": [
    "\n",
    "# 4. Run the code to discover the maximum value from the Series.\n",
    "\n",
    "num_series_float.nlargest(1)\n",
    "# 11    4789988.17\n",
    "# dtype: float64\n"
   ]
  },
  {
   "cell_type": "code",
   "execution_count": 34,
   "metadata": {},
   "outputs": [
    {
     "data": {
      "text/plain": [
       "1    278.6\n",
       "dtype: float64"
      ]
     },
     "execution_count": 34,
     "metadata": {},
     "output_type": "execute_result"
    }
   ],
   "source": [
    "\n",
    "# 5. Run the code to discover the minimum value from the Series.\n",
    "\n",
    "num_series_float.nsmallest(1)\n",
    "# 1    278.6\n",
    "# dtype: float64\n"
   ]
  },
  {
   "cell_type": "code",
   "execution_count": 35,
   "metadata": {},
   "outputs": [
    {
     "data": {
      "text/plain": [
       "4789709.57"
      ]
     },
     "execution_count": 35,
     "metadata": {},
     "output_type": "execute_result"
    }
   ],
   "source": [
    "\n",
    "# 6. What is the range of the values in the Series?\n",
    "\n",
    "num_series_float.max() - num_series_float.min()\n",
    "# 4789709.57\n",
    "\n"
   ]
  },
  {
   "cell_type": "code",
   "execution_count": 36,
   "metadata": {},
   "outputs": [
    {
     "data": {
      "text/plain": [
       "(-4511.11, 1197705.993]       7\n",
       "(3592560.778, 4789988.17]     6\n",
       "(1197705.993, 2395133.385]    4\n",
       "(2395133.385, 3592560.778]    3\n",
       "Name: count, dtype: int64"
      ]
     },
     "execution_count": 36,
     "metadata": {},
     "output_type": "execute_result"
    }
   ],
   "source": [
    "\n",
    "# 7. Bin the data into 4 equally sized intervals or bins and output how many values fall into each bin.\n",
    "\n",
    "num_bins_series = pd.cut(num_series_float, 4)\n",
    "nb = num_bins_series.value_counts()\n",
    "nb\n",
    "# (-4511.11, 1197705.993]       7\n",
    "# (3592560.778, 4789988.17]     6\n",
    "# (1197705.993, 2395133.385]    4\n",
    "# (2395133.385, 3592560.778]    3\n",
    "# dtype: int64\n"
   ]
  },
  {
   "cell_type": "code",
   "execution_count": 37,
   "metadata": {},
   "outputs": [
    {
     "data": {
      "text/plain": [
       "[Text(0.5, 0, 'Values'), Text(0, 0.5, 'Frequency')]"
      ]
     },
     "execution_count": 37,
     "metadata": {},
     "output_type": "execute_result"
    },
    {
     "data": {
      "image/png": "[encoded data removed]",
      "text/plain": [
       "<Figure size 640x480 with 1 Axes>"
      ]
     },
     "metadata": {},
     "output_type": "display_data"
    }
   ],
   "source": [
    "\n",
    "# 8 .Plot the binned data in a meaningful way. Be sure to include a title and axis labels.\n",
    "\n",
    "nb.plot.bar().set(xlabel='Values', ylabel= 'Frequency')\n",
    "\n"
   ]
  },
  {
   "cell_type": "code",
   "execution_count": 38,
   "metadata": {},
   "outputs": [
    {
     "data": {
      "text/plain": [
       "dtype('int64')"
      ]
     },
     "execution_count": 38,
     "metadata": {},
     "output_type": "execute_result"
    }
   ],
   "source": [
    "\n",
    "# Use pandas to create a Series named exam_scores from the following list:\n",
    "\n",
    "scores = [60, 86, 75, 62, 93, 71, 60, 83, 95, 78, 65, 72, 69, 81, 96, 80, 85, 92, 82, 78]\n",
    "exam_scores = pd.Series(scores)\n",
    "exam_scores\n",
    "\n",
    "exam_scores.dtype\n",
    "# dtype('int64')\n"
   ]
  },
  {
   "cell_type": "code",
   "execution_count": 39,
   "metadata": {},
   "outputs": [
    {
     "data": {
      "text/plain": [
       "20"
      ]
     },
     "execution_count": 39,
     "metadata": {},
     "output_type": "execute_result"
    }
   ],
   "source": [
    "\n",
    "# 1. How many elements are in the exam_scores Series?\n",
    "\n",
    "exam_scores.size\n",
    "# 20\n"
   ]
  },
  {
   "cell_type": "code",
   "execution_count": 40,
   "metadata": {},
   "outputs": [
    {
     "data": {
      "text/plain": [
       "count    20.000000\n",
       "mean     78.150000\n",
       "std      11.352139\n",
       "min      60.000000\n",
       "25%      70.500000\n",
       "50%      79.000000\n",
       "75%      85.250000\n",
       "max      96.000000\n",
       "dtype: float64"
      ]
     },
     "execution_count": 40,
     "metadata": {},
     "output_type": "execute_result"
    }
   ],
   "source": [
    "\n",
    "# 2. Run the code to discover the minimum, the maximum, the mean, and the median \n",
    "#    scores for the exam_scores Series.\n",
    "\n",
    "exam_scores.describe()\n",
    "# count    20.000000\n",
    "# mean     78.150000\n",
    "# std      11.352139\n",
    "# min      60.000000\n",
    "# 25%      70.500000\n",
    "# 50%      79.000000\n",
    "# 75%      85.250000\n",
    "# max      96.000000\n",
    "# dtype: float64\n",
    "\n"
   ]
  },
  {
   "cell_type": "code",
   "execution_count": 41,
   "metadata": {},
   "outputs": [
    {
     "data": {
      "text/plain": [
       "[Text(0.5, 0, 'Grade'), Text(0, 0.5, 'Frequency')]"
      ]
     },
     "execution_count": 41,
     "metadata": {},
     "output_type": "execute_result"
    },
    {
     "data": {
      "image/png": "[encoded data removed]",
      "text/plain": [
       "<Figure size 640x480 with 1 Axes>"
      ]
     },
     "metadata": {},
     "output_type": "display_data"
    }
   ],
   "source": [
    "\n",
    "# 3. Plot the Series in a meaningful way and make sure your chart has a title and axis labels.\n",
    "\n",
    "exam_scores.plot.hist().set(xlabel='Grade', ylabel='Frequency')\n"
   ]
  },
  {
   "cell_type": "code",
   "execution_count": 42,
   "metadata": {},
   "outputs": [
    {
     "name": "stdout",
     "output_type": "stream",
     "text": [
      "0      64\n",
      "1      90\n",
      "2      79\n",
      "3      66\n",
      "4      97\n",
      "5      75\n",
      "6      64\n",
      "7      87\n",
      "8      99\n",
      "9      82\n",
      "10     69\n",
      "11     76\n",
      "12     73\n",
      "13     85\n",
      "14    100\n",
      "15     84\n",
      "16     89\n",
      "17     96\n",
      "18     86\n",
      "19     82\n",
      "dtype: int64\n"
     ]
    }
   ],
   "source": [
    "\n",
    "# 4. Write the code necessary to implement a curve for your exam_grades Series and save this as curved_grades. \n",
    "#    Add the necessary points to the highest grade to make it 100, and add the same number of \n",
    "#    points to every other score in the Series as well.\n",
    "\n",
    "# need (100 - max) + every other score\n",
    "\n",
    "curved_grades = (100 - exam_scores.max()) + exam_scores\n",
    "\n",
    "print(curved_grades)\n",
    "\n",
    "# 0      64\n",
    "# 1      90\n",
    "# 2      79\n",
    "# 3      66\n",
    "# 4      97\n",
    "# 5      75\n",
    "# 6      64\n",
    "# 7      87\n",
    "# 8      99\n",
    "# 9      82\n",
    "# 10     69\n",
    "# 11     76\n",
    "# 12     73\n",
    "# 13     85\n",
    "# 14    100\n",
    "# 15     84\n",
    "# 16     89\n",
    "# 17     96\n",
    "# 18     86\n",
    "# 19     82\n",
    "# dtype: int64\n"
   ]
  },
  {
   "cell_type": "code",
   "execution_count": 46,
   "metadata": {},
   "outputs": [
    {
     "data": {
      "text/plain": [
       "B    8\n",
       "F    4\n",
       "A    4\n",
       "D    2\n",
       "C    2\n",
       "Name: count, dtype: int64"
      ]
     },
     "execution_count": 46,
     "metadata": {},
     "output_type": "execute_result"
    }
   ],
   "source": [
    "\n",
    "\n",
    "# 5. Use a method to convert each of the numeric values in the curved_grades \n",
    "# Series into a categorical value of letter grades. \n",
    "# For example, 86 should be a 'B' and 95 should be an 'A'. Save this as a Series named letter_grades.\n",
    "\n",
    "bin_edges = [0, 70, 75, 80, 90, 100]\n",
    "bin_labels = ['F', 'D', 'C', 'B', 'A']\n",
    "letter_grades = pd.cut(curved_grades, bins=bin_edges, labels=bin_labels)\n",
    "\n",
    "letter_grades = letter_grades.value_counts()\n",
    "letter_grades\n"
   ]
  },
  {
   "cell_type": "code",
   "execution_count": 48,
   "metadata": {},
   "outputs": [
    {
     "data": {
      "image/png": "[encoded data removed]",
      "text/plain": [
       "<Figure size 640x480 with 1 Axes>"
      ]
     },
     "metadata": {},
     "output_type": "display_data"
    }
   ],
   "source": [
    "\n",
    "import matplotlib.pyplot as plt\n",
    "# 6. Plot your new categorical letter_grades Series in a meaninful way and include \n",
    "#    a title and axis labels.\n",
    "\n",
    "letter_grades.plot.bar(rot = 0, color = 'red', ec = 'black')\n",
    "plt.title(\"Letter Grades with Curve\")\n",
    "plt.ylabel(\"Number of Students\")\n",
    "plt.xlabel('Letter Grade')\n",
    "\n",
    "plt.show()\n"
   ]
  },
  {
   "cell_type": "code",
   "execution_count": null,
   "metadata": {},
   "outputs": [],
   "source": []
  }
 ],
 "metadata": {
  "kernelspec": {
   "display_name": "base",
   "language": "python",
   "name": "python3"
  },
  "language_info": {
   "codemirror_mode": {
    "name": "ipython",
    "version": 3
   },
   "file_extension": ".py",
   "mimetype": "text/x-python",
   "name": "python",
   "nbconvert_exporter": "python",
   "pygments_lexer": "ipython3",
   "version": "3.11.3"
  },
  "orig_nbformat": 4
 },
 "nbformat": 4,
 "nbformat_minor": 2
}
