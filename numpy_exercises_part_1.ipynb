{
 "cells": [
  {
   "cell_type": "code",
   "execution_count": 1,
   "metadata": {},
   "outputs": [],
   "source": [
    "import numpy as np\n"
   ]
  },
  {
   "cell_type": "code",
   "execution_count": 2,
   "metadata": {},
   "outputs": [],
   "source": [
    "\n",
    "# Life w/o numpy to life with numpy\n",
    "\n",
    "## Setup 1\n",
    "a = [1, 2, 3, 4, 5, 6, 7, 8, 9, 10]\n"
   ]
  },
  {
   "cell_type": "code",
   "execution_count": 3,
   "metadata": {},
   "outputs": [
    {
     "name": "stdout",
     "output_type": "stream",
     "text": [
      "55\n"
     ]
    }
   ],
   "source": [
    "\n",
    "# Use python's built in functionality/operators to determine the following:\n",
    "# Exercise 1 - Make a variable called sum_of_a to hold the sum of all the numbers in above list\n",
    "\n",
    "sum_of_a = sum(a)\n",
    "print(sum_of_a)\n",
    "# 55\n"
   ]
  },
  {
   "cell_type": "code",
   "execution_count": 4,
   "metadata": {},
   "outputs": [
    {
     "name": "stdout",
     "output_type": "stream",
     "text": [
      "1\n"
     ]
    }
   ],
   "source": [
    "\n",
    "\n",
    "# Exercise 2 - Make a variable named min_of_a to hold the minimum of all the numbers in the above list\n",
    "\n",
    "min_of_a = min(a)\n",
    "print (min_of_a)\n",
    "# 1\n",
    "\n"
   ]
  },
  {
   "cell_type": "code",
   "execution_count": 5,
   "metadata": {},
   "outputs": [
    {
     "name": "stdout",
     "output_type": "stream",
     "text": [
      "10\n"
     ]
    }
   ],
   "source": [
    "\n",
    "# Exercise 3 - Make a variable named max_of_a to hold the max number of all the numbers in the above list\n",
    "\n",
    "max_of_a = max(a)\n",
    "print(max_of_a)\n",
    "# 10\n"
   ]
  },
  {
   "cell_type": "code",
   "execution_count": 6,
   "metadata": {},
   "outputs": [
    {
     "name": "stdout",
     "output_type": "stream",
     "text": [
      "5.5\n"
     ]
    }
   ],
   "source": [
    "\n",
    "# Exercise 4 - Make a variable named mean_of_a to hold the average of all the numbers in the above list\n",
    "\n",
    "mean_of_a = sum_of_a / len(a)\n",
    "print(mean_of_a)\n",
    "# 5.5\n",
    "\n"
   ]
  },
  {
   "cell_type": "code",
   "execution_count": 7,
   "metadata": {},
   "outputs": [
    {
     "name": "stdout",
     "output_type": "stream",
     "text": [
      "3628800\n"
     ]
    }
   ],
   "source": [
    "\n",
    "# Exercise 5 - Make a variable named product_of_a to hold the product of multiplying all the numbers \n",
    "# in the above list together\n",
    "\n",
    "product_of_a = 1\n",
    "for num in a:\n",
    "    product_of_a *= num\n",
    "   \n",
    "print(product_of_a)\n",
    "#  3628800\n"
   ]
  },
  {
   "cell_type": "code",
   "execution_count": 8,
   "metadata": {},
   "outputs": [
    {
     "name": "stdout",
     "output_type": "stream",
     "text": [
      "[1, 4, 9, 16, 25, 36, 49, 64, 81, 100]\n"
     ]
    }
   ],
   "source": [
    "\n",
    "# Exercise 6 - Make a variable named squares_of_a. It should hold each number in a squared like [1, 4, 9, 16, 25...]\n",
    "\n",
    "squares_of_a = [i**2 for i in a]\n",
    "print(squares_of_a)\n",
    "# [1, 4, 9, 16, 25, 36, 49, 64, 81, 100]\n"
   ]
  },
  {
   "cell_type": "code",
   "execution_count": 9,
   "metadata": {},
   "outputs": [
    {
     "name": "stdout",
     "output_type": "stream",
     "text": [
      "[1, 3, 5, 7, 9]\n"
     ]
    }
   ],
   "source": [
    "\n",
    "# Exercise 7 - Make a variable named odds_in_a. It should hold only the odd numbers\n",
    "\n",
    "odds_in_a = [num for num in a if num % 2 != 0]\n",
    "print(odds_in_a)\n",
    "# [1, 3, 5, 7, 9]\n",
    "\n"
   ]
  },
  {
   "cell_type": "code",
   "execution_count": 10,
   "metadata": {},
   "outputs": [
    {
     "name": "stdout",
     "output_type": "stream",
     "text": [
      "[2, 4, 6, 8, 10]\n"
     ]
    }
   ],
   "source": [
    "\n",
    "# Exercise 8 - Make a variable named evens_in_a. It should hold only the evens.\n",
    "\n",
    "evens_in_a = [num for num in a if num % 2 == 0]\n",
    "print(evens_in_a)\n",
    "#[2, 4, 6, 8, 10]\n",
    "\n"
   ]
  },
  {
   "cell_type": "code",
   "execution_count": 11,
   "metadata": {},
   "outputs": [],
   "source": [
    "\n",
    "## What about life in two dimensions? A list of lists is matrix, a table, a spreadsheet, a chessboard...\n",
    "## Setup 2: Consider what it would take to find the sum, min, max, average, sum, product, and list of squares \n",
    "## for this list of two lists.\n",
    "# b = [\n",
    "#     [3, 4, 5],\n",
    "#     [6, 7, 8]\n",
    "# ]\n",
    "\n",
    "b = np.array([\n",
    "    [3, 4, 5],\n",
    "    [6, 7, 8]]\n",
    ")\n"
   ]
  },
  {
   "cell_type": "code",
   "execution_count": 12,
   "metadata": {},
   "outputs": [
    {
     "name": "stdout",
     "output_type": "stream",
     "text": [
      "33\n"
     ]
    }
   ],
   "source": [
    "\n",
    "# Exercise 1 - refactor the following to use numpy. Use sum_of_b as the variable. \n",
    "# **Hint, you'll first need to make sure that the \"b\" variable is a numpy array**\n",
    "# sum_of_b = 0\n",
    "# for row in b:\n",
    "#     sum_of_b += sum(row)\n",
    "\n",
    "sum_of_b = b.sum()\n",
    "print(sum_of_b)\n",
    "# 33\n",
    "\n"
   ]
  },
  {
   "cell_type": "code",
   "execution_count": 13,
   "metadata": {},
   "outputs": [
    {
     "name": "stdout",
     "output_type": "stream",
     "text": [
      "3\n"
     ]
    }
   ],
   "source": [
    "\n",
    "# Exercise 2 - refactor the following to use numpy. \n",
    "\n",
    "# min_of_b = min(b[0]) if min(b[0]) <= min(b[1]) else min(b[1])  \n",
    "min_of_b = b.min()\n",
    "\n",
    "print(min_of_b)\n",
    "# 3\n",
    "\n"
   ]
  },
  {
   "cell_type": "code",
   "execution_count": 14,
   "metadata": {},
   "outputs": [
    {
     "name": "stdout",
     "output_type": "stream",
     "text": [
      "8\n"
     ]
    }
   ],
   "source": [
    "\n",
    "# Exercise 3 - refactor the following maximum calculation to find the answer with numpy.\n",
    "\n",
    "#max_of_b = max(b[0]) if max(b[0]) >= max(b[1]) else max(b[1])\n",
    "\n",
    "max_of_b = b.max()\n",
    "print(max_of_b)\n",
    "# 8\n",
    "\n"
   ]
  },
  {
   "cell_type": "code",
   "execution_count": 15,
   "metadata": {},
   "outputs": [
    {
     "name": "stdout",
     "output_type": "stream",
     "text": [
      "5.5\n"
     ]
    }
   ],
   "source": [
    "\n",
    "# Exercise 4 - refactor the following using numpy to find the mean of b\n",
    "\n",
    "#mean_of_b = (sum(b[0]) + sum(b[1])) / (len(b[0]) + len(b[1]))\n",
    "\n",
    "mean_of_b = b.mean()\n",
    "print(mean_of_b)\n",
    "# 5.5 \n",
    "\n"
   ]
  },
  {
   "cell_type": "code",
   "execution_count": 16,
   "metadata": {},
   "outputs": [
    {
     "name": "stdout",
     "output_type": "stream",
     "text": [
      "20160\n"
     ]
    }
   ],
   "source": [
    "\n",
    "# Exercise 5 - refactor the following to use numpy for calculating the product of all numbers multiplied together.\n",
    "# \n",
    "# product_of_b = 1\n",
    "# for row in b:\n",
    "#     for number in row:\n",
    "#         product_of_b *= number\n",
    "\n",
    "product_of_b = b.prod()\n",
    "print(product_of_b)\n",
    "# 20160\n",
    "\n"
   ]
  },
  {
   "cell_type": "code",
   "execution_count": 17,
   "metadata": {},
   "outputs": [
    {
     "name": "stdout",
     "output_type": "stream",
     "text": [
      "[[ 9 16 25]\n",
      " [36 49 64]]\n"
     ]
    }
   ],
   "source": [
    "\n",
    "\n",
    "# Exercise 6 - refactor the following to use numpy to find the list of squares \n",
    "# squares_of_b = []\n",
    "# for row in b:\n",
    "#     for number in row:\n",
    "#         squares_of_b.append(number**2)\n",
    "#         print(squares_of_b)\n",
    "\n",
    "squares_of_b = np.square(b)\n",
    "print(squares_of_b)\n",
    "# [[ 9 16 25]\n",
    "# [36 49 64]]\n",
    "\n"
   ]
  },
  {
   "cell_type": "code",
   "execution_count": 18,
   "metadata": {},
   "outputs": [
    {
     "name": "stdout",
     "output_type": "stream",
     "text": [
      "[3 5 7]\n"
     ]
    }
   ],
   "source": [
    "\n",
    "# Exercise 7 - refactor using numpy to determine the odds_in_b\n",
    "# odds_in_b = []\n",
    "# for row in b:\n",
    "#     for number in row:\n",
    "#         if(number % 2 != 0):\n",
    "#             odds_in_b.append(number)\n",
    "# print(odds_in_b)\n",
    "\n",
    "odds_in_b = b[b % 2 != 0]\n",
    "\n",
    "print(odds_in_b)\n",
    "# [3 5 7]\n",
    "\n"
   ]
  },
  {
   "cell_type": "code",
   "execution_count": 19,
   "metadata": {},
   "outputs": [
    {
     "name": "stdout",
     "output_type": "stream",
     "text": [
      "[4 6 8]\n"
     ]
    }
   ],
   "source": [
    "\n",
    "# Exercise 8 - refactor the following to use numpy to filter only the even numbers\n",
    "evens_in_b = []\n",
    "for row in b:\n",
    "    for number in row:\n",
    "        if(number % 2 == 0):\n",
    "            evens_in_b.append(number)\n",
    "\n",
    "evens_in_b = b[b % 2 == 0]\n",
    "print(evens_in_b)\n",
    "# [4 6 8]\n",
    "\n"
   ]
  },
  {
   "cell_type": "code",
   "execution_count": 20,
   "metadata": {},
   "outputs": [
    {
     "name": "stdout",
     "output_type": "stream",
     "text": [
      "(2, 3)\n"
     ]
    }
   ],
   "source": [
    "\n",
    "# Exercise 9 - print out the shape of the array b.\n",
    "\n",
    "b_shape = b.shape\n",
    "print(b_shape)\n",
    "# (2, 3)\n"
   ]
  },
  {
   "cell_type": "code",
   "execution_count": 21,
   "metadata": {},
   "outputs": [
    {
     "name": "stdout",
     "output_type": "stream",
     "text": [
      "[[3 6]\n",
      " [4 7]\n",
      " [5 8]]\n"
     ]
    }
   ],
   "source": [
    "\n",
    "\n",
    "# Exercise 10 - transpose the array b.\n",
    "\n",
    "b_transpose = np.transpose(b)\n",
    "print(b_transpose)\n",
    "# [[3 6]\n",
    "#  [4 7]\n",
    "#  [5 8]]\n",
    "\n"
   ]
  },
  {
   "cell_type": "code",
   "execution_count": 22,
   "metadata": {},
   "outputs": [
    {
     "name": "stdout",
     "output_type": "stream",
     "text": [
      "[3, 4, 5, 6, 7, 8]\n"
     ]
    }
   ],
   "source": [
    "\n",
    "# Exercise 11 - reshape the array b to be a single list of 6 numbers. (1 x 6)\n",
    "\n",
    "b_reshape = np.reshape(b, -1).tolist()\n",
    "print(b_reshape)\n"
   ]
  },
  {
   "cell_type": "code",
   "execution_count": 23,
   "metadata": {},
   "outputs": [
    {
     "name": "stdout",
     "output_type": "stream",
     "text": [
      "[[3]\n",
      " [4]\n",
      " [5]\n",
      " [6]\n",
      " [7]\n",
      " [8]]\n"
     ]
    }
   ],
   "source": [
    "\n",
    "# Exercise 12 - reshape the array b to be a list of 6 lists, \n",
    "# each containing only 1 number (6 x 1)\n",
    "\n",
    "b_shape_six = np.reshape(b, (6, 1))\n",
    "print(b_shape_six)\n"
   ]
  },
  {
   "cell_type": "code",
   "execution_count": 24,
   "metadata": {},
   "outputs": [],
   "source": [
    "\n",
    "\n",
    "## Setup 3\n",
    "# c = [\n",
    "#     [1, 2, 3],\n",
    "#     [4, 5, 6],\n",
    "#     [7, 8, 9]\n",
    "# ]\n",
    "\n",
    "c = np.array([\n",
    "    [1, 2, 3],\n",
    "    [4, 5, 6],\n",
    "    [7, 8, 9]\n",
    "])\n",
    "\n"
   ]
  },
  {
   "cell_type": "code",
   "execution_count": 25,
   "metadata": {},
   "outputs": [
    {
     "name": "stdout",
     "output_type": "stream",
     "text": [
      "1\n",
      "9\n",
      "45\n",
      "362880\n"
     ]
    }
   ],
   "source": [
    "\n",
    "# HINT, you'll first need to make sure that the \"c\" variable is a \n",
    "# numpy array prior to using numpy array methods.\n",
    "\n",
    "# Exercise 1 - Find the min, max, sum, and product of c.\n",
    "\n",
    "c_min = c.min()\n",
    "print(c_min)\n",
    "# 1\n",
    "\n",
    "c_max = c.max()\n",
    "print(c_max)\n",
    "#9\n",
    "\n",
    "c_sum = c.sum()\n",
    "print(c_sum)\n",
    "#45\n",
    "\n",
    "c_prod = c.prod()\n",
    "print(c_prod)\n",
    "# 362880\n"
   ]
  },
  {
   "cell_type": "code",
   "execution_count": 26,
   "metadata": {},
   "outputs": [
    {
     "name": "stdout",
     "output_type": "stream",
     "text": [
      "2.581988897471611\n"
     ]
    }
   ],
   "source": [
    "\n",
    "\n",
    "# Exercise 2 - Determine the standard deviation of c.\n",
    "\n",
    "c_std = c.std()\n",
    "print(c_std)\n",
    "# 2.581988897471611\n",
    "\n"
   ]
  },
  {
   "cell_type": "code",
   "execution_count": 27,
   "metadata": {},
   "outputs": [
    {
     "name": "stdout",
     "output_type": "stream",
     "text": [
      "6.666666666666667\n"
     ]
    }
   ],
   "source": [
    "\n",
    "# Exercise 3 - Determine the variance of c.\n",
    "\n",
    "c_var = c.var()\n",
    "print(c_var)\n",
    "# 6.666666666666667\n"
   ]
  },
  {
   "cell_type": "code",
   "execution_count": 28,
   "metadata": {},
   "outputs": [
    {
     "name": "stdout",
     "output_type": "stream",
     "text": [
      "(3, 3)\n"
     ]
    }
   ],
   "source": [
    "\n",
    "\n",
    "# Exercise 4 - Print out the shape of the array c\n",
    "\n",
    "c_shape =np.shape(c)\n",
    "print(c_shape)\n",
    "# (3, 3)\n"
   ]
  },
  {
   "cell_type": "code",
   "execution_count": 29,
   "metadata": {},
   "outputs": [
    {
     "name": "stdout",
     "output_type": "stream",
     "text": [
      "[[1 4 7]\n",
      " [2 5 8]\n",
      " [3 6 9]]\n"
     ]
    }
   ],
   "source": [
    "\n",
    "\n",
    "# Exercise 5 - Transpose c and print out transposed result.\n",
    "\n",
    "c_transpose = np.transpose(c)\n",
    "print(c_transpose)\n",
    "# [[1 4 7]\n",
    "#  [2 5 8]\n",
    "#  [3 6 9]]\n",
    "\n"
   ]
  },
  {
   "cell_type": "code",
   "execution_count": 30,
   "metadata": {},
   "outputs": [
    {
     "name": "stdout",
     "output_type": "stream",
     "text": [
      "[[ 30  36  42]\n",
      " [ 66  81  96]\n",
      " [102 126 150]]\n"
     ]
    }
   ],
   "source": [
    "\n",
    "# Exercise 6 - Get the dot product of the array c with c. \n",
    "\n",
    "c_dotprod = np.dot(c,c, out=None)\n",
    "print(c_dotprod)\n",
    "# [[ 30  36  42]\n",
    "#  [ 66  81  96]\n",
    "#  [102 126 150]]\n",
    "\n"
   ]
  },
  {
   "cell_type": "code",
   "execution_count": 31,
   "metadata": {},
   "outputs": [
    {
     "name": "stdout",
     "output_type": "stream",
     "text": [
      "261\n"
     ]
    }
   ],
   "source": [
    "\n",
    "# Exercise 7 - Write the code necessary to sum up the result of c times c transposed. \n",
    "# Answer should be 261\n",
    "\n",
    "sum_c_squared = np.sum(c * c_transpose)\n",
    "\n",
    "print(sum_c_squared)\n",
    "# 261\n"
   ]
  },
  {
   "cell_type": "code",
   "execution_count": 32,
   "metadata": {},
   "outputs": [
    {
     "name": "stdout",
     "output_type": "stream",
     "text": [
      "131681894400\n"
     ]
    }
   ],
   "source": [
    "\n",
    "\n",
    "# Exercise 8 - Write the code necessary to determine the product of c times c transposed. \n",
    "# Answer should be 131681894400.\n",
    "\n",
    "print(np.prod(c * c_transpose))\n",
    "# 131681894400\n",
    "\n"
   ]
  },
  {
   "cell_type": "code",
   "execution_count": 33,
   "metadata": {},
   "outputs": [],
   "source": [
    "\n",
    "## Setup 4\n",
    "# d = [\n",
    "#     [90, 30, 45, 0, 120, 180],\n",
    "#     [45, -90, -30, 270, 90, 0],\n",
    "#     [60, 45, -45, 90, -45, 180]\n",
    "# ]\n",
    "\n",
    "d = np.array([\n",
    "    [90, 30, 45, 0, 120, 180],\n",
    "    [45, -90, -30, 270, 90, 0],\n",
    "    [60, 45, -45, 90, -45, 180]\n",
    "])\n"
   ]
  },
  {
   "cell_type": "code",
   "execution_count": 34,
   "metadata": {},
   "outputs": [
    {
     "name": "stdout",
     "output_type": "stream",
     "text": [
      "[[ 0.89399666 -0.98803162  0.85090352  0.          0.58061118 -0.80115264]\n",
      " [ 0.85090352 -0.89399666  0.98803162 -0.17604595  0.89399666  0.        ]\n",
      " [-0.30481062  0.85090352 -0.85090352  0.89399666 -0.85090352 -0.80115264]]\n"
     ]
    }
   ],
   "source": [
    "\n",
    "\n",
    "# Exercise 1 - Find the sine of all the numbers in d\n",
    "\n",
    "d_sine = np.sin(d)\n",
    "print(d_sine)\n",
    "# [[ 0.89399666 -0.98803162  0.85090352  0.          0.58061118 -0.80115264]\n",
    "#  [ 0.85090352 -0.89399666  0.98803162 -0.17604595  0.89399666  0.        ]\n",
    "#  [-0.30481062  0.85090352 -0.85090352  0.89399666 -0.85090352 -0.80115264]\n",
    "\n"
   ]
  },
  {
   "cell_type": "code",
   "execution_count": 35,
   "metadata": {},
   "outputs": [
    {
     "name": "stdout",
     "output_type": "stream",
     "text": [
      "[[-0.44807362  0.15425145  0.52532199  1.          0.81418097 -0.59846007]\n",
      " [ 0.52532199 -0.44807362  0.15425145  0.98438195 -0.44807362  1.        ]\n",
      " [-0.95241298  0.52532199  0.52532199 -0.44807362  0.52532199 -0.59846007]]\n"
     ]
    }
   ],
   "source": [
    "\n",
    "# Exercise 2 - Find the cosine of all the numbers in d\n",
    "\n",
    "d_cos = np.cos(d)\n",
    "print(d_cos)\n",
    "# [[-0.44807362  0.15425145  0.52532199  1.          0.81418097 -0.59846007]\n",
    "#  [ 0.52532199 -0.44807362  0.15425145  0.98438195 -0.44807362  1.        ]\n",
    "#  [-0.95241298  0.52532199  0.52532199 -0.44807362  0.52532199 -0.59846007]]\n"
   ]
  },
  {
   "cell_type": "code",
   "execution_count": 36,
   "metadata": {},
   "outputs": [
    {
     "name": "stdout",
     "output_type": "stream",
     "text": [
      "[[-1.99520041 -6.4053312   1.61977519  0.          0.71312301  1.33869021]\n",
      " [ 1.61977519  1.99520041  6.4053312  -0.17883906 -1.99520041  0.        ]\n",
      " [ 0.32004039  1.61977519 -1.61977519 -1.99520041 -1.61977519  1.33869021]]\n"
     ]
    }
   ],
   "source": [
    "\n",
    "\n",
    "# Exercise 3 - Find the tangent of all the numbers in d\n",
    "\n",
    "d_tan = np.tan(d)\n",
    "print(d_tan)\n",
    "# [[-1.99520041 -6.4053312   1.61977519  0.          0.71312301  1.33869021]\n",
    "#  [ 1.61977519  1.99520041  6.4053312  -0.17883906 -1.99520041  0.        ]\n",
    "#  [ 0.32004039  1.61977519 -1.61977519 -1.99520041 -1.61977519  1.33869021]]\n",
    "\n"
   ]
  },
  {
   "cell_type": "code",
   "execution_count": 37,
   "metadata": {},
   "outputs": [
    {
     "name": "stdout",
     "output_type": "stream",
     "text": [
      "4\n"
     ]
    },
    {
     "data": {
      "text/plain": [
       "array([-90, -30, -45, -45])"
      ]
     },
     "execution_count": 37,
     "metadata": {},
     "output_type": "execute_result"
    }
   ],
   "source": [
    "\n",
    "# Exercise 4 - Find all the negative numbers in d\n",
    "\n",
    "d_neg = np.sum(d < 0)\n",
    "print(d_neg)\n",
    "# 4\n",
    "d[d < 0]\n",
    "# array([-90, -30, -45, -45])\n"
   ]
  },
  {
   "cell_type": "code",
   "execution_count": 38,
   "metadata": {},
   "outputs": [
    {
     "name": "stdout",
     "output_type": "stream",
     "text": [
      "14\n"
     ]
    },
    {
     "data": {
      "text/plain": [
       "array([ 90,  30,  45, 120, 180,  45, 270,  90,  60,  45,  90, 180])"
      ]
     },
     "execution_count": 38,
     "metadata": {},
     "output_type": "execute_result"
    }
   ],
   "source": [
    "\n",
    "\n",
    "# Exercise 5 - Find all the positive numbers in d\n",
    "\n",
    "d_pos = np.sum(d>=0)\n",
    "print(d_pos)\n",
    "# 14\n",
    "d[d > 0]\n",
    "# array([ 90,  30,  45, 120, 180,  45, 270,  90,  60,  45,  90, 180])\n",
    "\n"
   ]
  },
  {
   "cell_type": "code",
   "execution_count": 39,
   "metadata": {},
   "outputs": [
    {
     "name": "stdout",
     "output_type": "stream",
     "text": [
      "[-90 -45 -30   0  30  45  60  90 120 180 270]\n"
     ]
    }
   ],
   "source": [
    "\n",
    "# Exercise 6 - Return an array of only the unique numbers in d.\n",
    "\n",
    "uniq_d = np.unique(d)\n",
    "print(uniq_d)\n",
    "# [-90 -45 -30   0  30  45  60  90 120 180 270]\n"
   ]
  },
  {
   "cell_type": "code",
   "execution_count": 40,
   "metadata": {},
   "outputs": [
    {
     "data": {
      "text/plain": [
       "11"
      ]
     },
     "execution_count": 40,
     "metadata": {},
     "output_type": "execute_result"
    }
   ],
   "source": [
    "\n",
    "# Exercise 7 - Determine how many unique numbers there are in d.\n",
    "\n",
    "len(uniq_d)\n",
    "# 11\n"
   ]
  },
  {
   "cell_type": "code",
   "execution_count": 41,
   "metadata": {},
   "outputs": [
    {
     "name": "stdout",
     "output_type": "stream",
     "text": [
      "(3, 6)\n"
     ]
    }
   ],
   "source": [
    "\n",
    "# Exercise 8 - Print out the shape of d.\n",
    "\n",
    "d_shape = np.shape(d)\n",
    "print(d_shape)\n",
    "# (3, 6)\n"
   ]
  },
  {
   "cell_type": "code",
   "execution_count": 42,
   "metadata": {},
   "outputs": [
    {
     "name": "stdout",
     "output_type": "stream",
     "text": [
      "(6, 3)\n"
     ]
    }
   ],
   "source": [
    "\n",
    "\n",
    "# Exercise 9 - Transpose and then print out the shape of d.\n",
    "\n",
    "d_trans = np.transpose(d)\n",
    "print(np.shape(d_trans))\n",
    "# (6, 3)\n",
    "\n"
   ]
  },
  {
   "cell_type": "code",
   "execution_count": 43,
   "metadata": {},
   "outputs": [
    {
     "name": "stdout",
     "output_type": "stream",
     "text": [
      "[[ 90  30]\n",
      " [ 45   0]\n",
      " [120 180]\n",
      " [ 45 -90]\n",
      " [-30 270]\n",
      " [ 90   0]\n",
      " [ 60  45]\n",
      " [-45  90]\n",
      " [-45 180]]\n"
     ]
    }
   ],
   "source": [
    "\n",
    "# Exercise 10 - Reshape d into an array of 9 x 2\n",
    "\n",
    "d_reshape = np.reshape(d, (9,2))\n",
    "print(d_reshape)\n",
    "# [[ 90  30]\n",
    "#  [ 45   0]\n",
    "#  [120 180]\n",
    "#  [ 45 -90]\n",
    "#  [-30 270]\n",
    "#  [ 90   0]\n",
    "#  [ 60  45]\n",
    "#  [-45  90]\n",
    "#  [-45 180]]"
   ]
  }
 ],
 "metadata": {
  "kernelspec": {
   "display_name": "base",
   "language": "python",
   "name": "python3"
  },
  "language_info": {
   "codemirror_mode": {
    "name": "ipython",
    "version": 3
   },
   "file_extension": ".py",
   "mimetype": "text/x-python",
   "name": "python",
   "nbconvert_exporter": "python",
   "pygments_lexer": "ipython3",
   "version": "3.11.3"
  },
  "orig_nbformat": 4
 },
 "nbformat": 4,
 "nbformat_minor": 2
}
