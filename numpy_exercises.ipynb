{
 "cells": [
  {
   "cell_type": "code",
   "execution_count": 3,
   "metadata": {},
   "outputs": [],
   "source": [
    "import numpy as np\n"
   ]
  },
  {
   "cell_type": "code",
   "execution_count": 4,
   "metadata": {},
   "outputs": [],
   "source": [
    "\n",
    "\n",
    "#use the following code for the questions below\n",
    "a = np.array([4, 10, 12, 23, -2, -1, 0, 0, 0, -6, 3, -7])\n"
   ]
  },
  {
   "cell_type": "code",
   "execution_count": 5,
   "metadata": {},
   "outputs": [
    {
     "name": "stdout",
     "output_type": "stream",
     "text": [
      "4\n",
      "4\n"
     ]
    }
   ],
   "source": [
    "\n",
    "# 1. How many negative numbers are there?\n",
    "\n",
    "neg_a = np.sum(a < 0)\n",
    "print(neg_a)\n",
    "# 4\n",
    "\n",
    "under_zero = a < 0\n",
    "print( len(a[under_zero]))\n",
    "# 4 \n"
   ]
  },
  {
   "cell_type": "code",
   "execution_count": 6,
   "metadata": {},
   "outputs": [
    {
     "name": "stdout",
     "output_type": "stream",
     "text": [
      "5\n"
     ]
    }
   ],
   "source": [
    "\n",
    "# 2. How many positive numbers are there?\n",
    "\n",
    "pos_a = np.sum(a > 0)\n",
    "print(pos_a)\n",
    "# 5\n"
   ]
  },
  {
   "cell_type": "code",
   "execution_count": 7,
   "metadata": {},
   "outputs": [
    {
     "name": "stdout",
     "output_type": "stream",
     "text": [
      "3\n"
     ]
    }
   ],
   "source": [
    "\n",
    "\n",
    "# 3. How many even positive numbers are there?\n",
    "\n",
    "even_a = (a % 2 == 0) & (a > 0)\n",
    "print(len(a[even_a]))\n",
    "# 3\n",
    "\n"
   ]
  },
  {
   "cell_type": "code",
   "execution_count": 8,
   "metadata": {},
   "outputs": [
    {
     "data": {
      "text/plain": [
       "10"
      ]
     },
     "execution_count": 8,
     "metadata": {},
     "output_type": "execute_result"
    }
   ],
   "source": [
    "\n",
    "# 4. if you were to add 3 to each data point, how many positive numbers would there be?\n",
    "\n",
    "((a + 3) > 0).sum()\n",
    "# 10\n"
   ]
  },
  {
   "cell_type": "code",
   "execution_count": 9,
   "metadata": {},
   "outputs": [
    {
     "name": "stdout",
     "output_type": "stream",
     "text": [
      "74.0\n",
      "144.0243035046516\n"
     ]
    }
   ],
   "source": [
    "\n",
    "\n",
    "# 5. If you squared each number, what would the new mean and standard deviation be?\n",
    "\n",
    "square_it = a ** 2\n",
    "get_mean = square_it.mean()\n",
    "print(get_mean)\n",
    "# 74.0\n",
    "\n",
    "get_stdev = square_it.std()\n",
    "print(get_stdev)\n",
    "# 144.02\n",
    "\n"
   ]
  },
  {
   "cell_type": "code",
   "execution_count": 10,
   "metadata": {},
   "outputs": [
    {
     "name": "stdout",
     "output_type": "stream",
     "text": [
      "[ 4 10 12 23 -2 -1  0  0  0 -6  3 -7]\n",
      "[  1.   7.   9.  20.  -5.  -4.  -3.  -3.  -3.  -9.   0. -10.]\n",
      "[  1.   7.   9.  20.  -5.  -4.  -3.  -3.  -3.  -9.   0. -10.]\n"
     ]
    }
   ],
   "source": [
    "\n",
    "# 6. A common statistical operation on a dataset is centering. \n",
    "# This means to adjust the data such that the mean of the data is 0. \n",
    "# This is done by subtracting the mean from each data point. Center the data set. \n",
    "print(a)\n",
    "# [ 4 10 12 23 -2 -1  0  0  0 -6  3 -7]\n",
    "\n",
    "center_func = a - a.mean()\n",
    "\n",
    "print(center_func)\n",
    "# [  1.   7.   9.  20.  -5.  -4.  -3.  -3.  -3.  -9.   0. -10.]\n",
    "\n",
    "# found on the net and wanted to see it\n",
    "centaur = lambda x: x - x.mean()\n",
    "data_cent = centaur(a)\n",
    "print(data_cent)\n",
    "# [  1.   7.   9.  20.  -5.  -4.  -3.  -3.  -3.  -9.   0. -10.]\n"
   ]
  },
  {
   "cell_type": "code",
   "execution_count": 11,
   "metadata": {},
   "outputs": [
    {
     "name": "stdout",
     "output_type": "stream",
     "text": [
      "[ 0.12403473  0.86824314  1.11631261  2.48069469 -0.62017367 -0.49613894\n",
      " -0.3721042  -0.3721042  -0.3721042  -1.11631261  0.         -1.24034735]\n"
     ]
    }
   ],
   "source": [
    "\n",
    "\n",
    "# 7. Calculate the z-score for each data point. \n",
    "# Recall that the z-score is given by: z = (x-u)/o\n",
    "\n",
    "z_score = (a - a.mean()) / a.std()\n",
    "\n",
    "print(z_score)\n",
    "# [ 0.12403473  0.86824314  1.11631261  2.48069469 -0.62017367 -0.49613894\n",
    "# -0.3721042  -0.3721042  -0.3721042  -1.11631261  0.         -1.24034735]\n"
   ]
  }
 ],
 "metadata": {
  "kernelspec": {
   "display_name": "base",
   "language": "python",
   "name": "python3"
  },
  "language_info": {
   "codemirror_mode": {
    "name": "ipython",
    "version": 3
   },
   "file_extension": ".py",
   "mimetype": "text/x-python",
   "name": "python",
   "nbconvert_exporter": "python",
   "pygments_lexer": "ipython3",
   "version": "3.11.3"
  },
  "orig_nbformat": 4
 },
 "nbformat": 4,
 "nbformat_minor": 2
}
